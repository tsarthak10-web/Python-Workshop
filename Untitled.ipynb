{
 "cells": [
  {
   "cell_type": "code",
   "execution_count": 2,
   "id": "a4bf2eee-3db6-4898-ae93-bbc184d9d39b",
   "metadata": {},
   "outputs": [],
   "source": [
    "import pandas as pd\n",
    "import numpy as np"
   ]
  },
  {
   "cell_type": "code",
   "execution_count": 3,
   "id": "aa8c6f50-221d-4a51-9692-968a328459a3",
   "metadata": {},
   "outputs": [
    {
     "name": "stdout",
     "output_type": "stream",
     "text": [
      "{'first score': [100, 90, nan, 95], 'secondscore': [nan, 45, 56, nan], 'third score': [nan, 40, 80, 98]}\n"
     ]
    }
   ],
   "source": [
    "dict={'first score':[100,90,np.nan,95],\n",
    "      'secondscore':[np.nan,45,56,np.nan],\n",
    "      'third score':[np.nan,40,80,98]}\n",
    "print(dict)"
   ]
  },
  {
   "cell_type": "code",
   "execution_count": 4,
   "id": "1e41a570-1958-4bc8-9287-22677b8eaa2d",
   "metadata": {},
   "outputs": [
    {
     "data": {
      "text/plain": [
       "dict"
      ]
     },
     "execution_count": 4,
     "metadata": {},
     "output_type": "execute_result"
    }
   ],
   "source": [
    "type(dict)"
   ]
  },
  {
   "cell_type": "code",
   "execution_count": 9,
   "id": "9749b17b-5d7f-4e83-909b-0614990f2959",
   "metadata": {},
   "outputs": [
    {
     "name": "stdout",
     "output_type": "stream",
     "text": [
      "   first score  secondscore  third score\n",
      "0        100.0          NaN          NaN\n",
      "1         90.0         45.0         40.0\n",
      "2          NaN         56.0         80.0\n",
      "3         95.0          NaN         98.0\n",
      "   first score  secondscore  third score\n",
      "0        100.0          NaN          NaN\n",
      "1         90.0         45.0         40.0\n",
      "2          NaN         56.0         80.0\n",
      "3         95.0          NaN         98.0\n",
      "   first score  secondscore  third score\n",
      "0        False         True         True\n",
      "1        False        False        False\n",
      "2         True        False        False\n",
      "3        False         True        False\n",
      "   first score  secondscore  third score\n",
      "0         True        False        False\n",
      "1         True         True         True\n",
      "2        False         True         True\n",
      "3         True        False         True\n"
     ]
    }
   ],
   "source": [
    "df=pd.DataFrame(dict)\n",
    "print(df)\n",
    "print(df.to_string())\n",
    "type(df)\n",
    "print(df.isnull())\n",
    "print(df.notnull())"
   ]
  },
  {
   "cell_type": "code",
   "execution_count": 12,
   "id": "6af48a4c-7193-4e98-a3a7-83ba39e042d6",
   "metadata": {},
   "outputs": [
    {
     "name": "stdout",
     "output_type": "stream",
     "text": [
      "   first score  secondscore  third score\n",
      "0        100.0          NaN          NaN\n",
      "1         90.0         45.0         40.0\n",
      "2         90.0         56.0         80.0\n",
      "3         95.0         56.0         98.0\n"
     ]
    },
    {
     "name": "stderr",
     "output_type": "stream",
     "text": [
      "C:\\Users\\Sarthak Tiwari\\AppData\\Local\\Temp\\ipykernel_27432\\3542362975.py:1: FutureWarning: DataFrame.fillna with 'method' is deprecated and will raise in a future version. Use obj.ffill() or obj.bfill() instead.\n",
      "  print(df.fillna(method='pad'))\n"
     ]
    }
   ],
   "source": [
    "print(df.fillna(method='pad'))"
   ]
  },
  {
   "cell_type": "code",
   "execution_count": 11,
   "id": "d2ac81d5-b298-4511-8cf8-2f0290ec967a",
   "metadata": {},
   "outputs": [
    {
     "name": "stdout",
     "output_type": "stream",
     "text": [
      "   first score  secondscore  third score\n",
      "0        100.0         40.0         40.0\n",
      "1         90.0         45.0         40.0\n",
      "2         40.0         56.0         80.0\n",
      "3         95.0         40.0         98.0\n"
     ]
    }
   ],
   "source": [
    "print(df.replace(to_replace=np.nan, value=40))"
   ]
  },
  {
   "cell_type": "code",
   "execution_count": 13,
   "id": "e87fcaf5-e15d-4dc3-9b25-62a338629110",
   "metadata": {},
   "outputs": [
    {
     "name": "stdout",
     "output_type": "stream",
     "text": [
      "first score    95.000000\n",
      "secondscore    50.500000\n",
      "third score    72.666667\n",
      "dtype: float64\n"
     ]
    }
   ],
   "source": [
    "df_mean=df.mean()\n",
    "print(df_mean)"
   ]
  },
  {
   "cell_type": "code",
   "execution_count": 15,
   "id": "8d73bb23-4c91-4681-a28b-da359ad8a758",
   "metadata": {},
   "outputs": [
    {
     "name": "stdout",
     "output_type": "stream",
     "text": [
      "   first score  secondscore  third score\n",
      "0        100.0         50.5    72.666667\n",
      "1         90.0         45.0    40.000000\n",
      "2         95.0         56.0    80.000000\n",
      "3         95.0         50.5    98.000000\n"
     ]
    }
   ],
   "source": [
    "data_new=df.fillna(df.mean())\n",
    "print(data_new)"
   ]
  },
  {
   "cell_type": "code",
   "execution_count": 16,
   "id": "efa87c98-49c5-4a2c-9c99-41cc0b1b42dd",
   "metadata": {},
   "outputs": [
    {
     "name": "stdout",
     "output_type": "stream",
     "text": [
      "   first score  secondscore  third score\n",
      "0        100.0          NaN          NaN\n",
      "1         90.0         45.0         40.0\n",
      "2          NaN         56.0         80.0\n",
      "3         95.0          NaN         98.0\n"
     ]
    }
   ],
   "source": [
    "df.dropna(how='all')\n",
    "print(df)"
   ]
  },
  {
   "cell_type": "code",
   "execution_count": null,
   "id": "2f9a786a-e045-4cd5-a038-e6c25c511295",
   "metadata": {},
   "outputs": [],
   "source": []
  }
 ],
 "metadata": {
  "kernelspec": {
   "display_name": "Python 3 (ipykernel)",
   "language": "python",
   "name": "python3"
  },
  "language_info": {
   "codemirror_mode": {
    "name": "ipython",
    "version": 3
   },
   "file_extension": ".py",
   "mimetype": "text/x-python",
   "name": "python",
   "nbconvert_exporter": "python",
   "pygments_lexer": "ipython3",
   "version": "3.13.5"
  }
 },
 "nbformat": 4,
 "nbformat_minor": 5
}
