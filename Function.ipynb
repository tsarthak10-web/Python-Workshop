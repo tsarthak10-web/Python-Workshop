{
 "cells": [
  {
   "cell_type": "code",
   "execution_count": 1,
   "id": "c1ef24a2-fdaf-4b62-9f6a-10b2f2e0dbc9",
   "metadata": {},
   "outputs": [
    {
     "name": "stdout",
     "output_type": "stream",
     "text": [
      "hello There\n"
     ]
    }
   ],
   "source": [
    "def hello():\n",
    "    print('hello There')\n",
    "hello()"
   ]
  },
  {
   "cell_type": "code",
   "execution_count": 2,
   "id": "155e5e05-5e86-4b3c-93bf-9827116d469f",
   "metadata": {},
   "outputs": [
    {
     "name": "stdout",
     "output_type": "stream",
     "text": [
      "the sum is 13\n"
     ]
    }
   ],
   "source": [
    "def add(a,b):\n",
    "    return a+b\n",
    "result = add(5,8)\n",
    "print('the sum is',result)"
   ]
  },
  {
   "cell_type": "code",
   "execution_count": 4,
   "id": "46938cd2-ae2a-4259-9e5b-496ac3d00598",
   "metadata": {},
   "outputs": [
    {
     "name": "stdout",
     "output_type": "stream",
     "text": [
      "hello ari!\n",
      "hello sda!\n"
     ]
    }
   ],
   "source": [
    "def greet(name='ari'):\n",
    "    print('hello '+name+'!')\n",
    "greet()\n",
    "greet('sda')"
   ]
  },
  {
   "cell_type": "code",
   "execution_count": 5,
   "id": "122b00fb-558c-4c0f-b750-b56bb9545701",
   "metadata": {},
   "outputs": [
    {
     "name": "stdout",
     "output_type": "stream",
     "text": [
      "False\n",
      "True\n"
     ]
    }
   ],
   "source": [
    "def ev(n):\n",
    "    if n%2==0:\n",
    "        return True\n",
    "    else:\n",
    "        return False\n",
    "print(ev(5))\n",
    "print(ev(86))"
   ]
  },
  {
   "cell_type": "code",
   "execution_count": 8,
   "id": "01800389-1579-46bc-88bf-452b84626e75",
   "metadata": {},
   "outputs": [
    {
     "name": "stdout",
     "output_type": "stream",
     "text": [
      "13\n"
     ]
    }
   ],
   "source": [
    "def m(a,b,c):\n",
    "    return max(a,b,c)\n",
    "print(m(10,12,13,))"
   ]
  },
  {
   "cell_type": "code",
   "execution_count": 9,
   "id": "d4e1ed13-dcd1-4d5d-ba80-600fb8b6b0fc",
   "metadata": {},
   "outputs": [],
   "source": [
    "import random"
   ]
  },
  {
   "cell_type": "code",
   "execution_count": 14,
   "id": "947bd88a-9764-483a-8259-8569f1a49ad0",
   "metadata": {},
   "outputs": [
    {
     "name": "stdin",
     "output_type": "stream",
     "text": [
      "guess the no. 5\n"
     ]
    },
    {
     "name": "stdout",
     "output_type": "stream",
     "text": [
      "Failed,the answer is 10\n"
     ]
    },
    {
     "ename": "NameError",
     "evalue": "name 'g' is not defined",
     "output_type": "error",
     "traceback": [
      "\u001b[31m---------------------------------------------------------------------------\u001b[39m",
      "\u001b[31mNameError\u001b[39m                                 Traceback (most recent call last)",
      "\u001b[36mCell\u001b[39m\u001b[36m \u001b[39m\u001b[32mIn[14]\u001b[39m\u001b[32m, line 11\u001b[39m\n\u001b[32m      9\u001b[39m             \u001b[38;5;28mprint\u001b[39m(\u001b[33mf\u001b[39m\u001b[33m'\u001b[39m\u001b[33mFailed,the answer is \u001b[39m\u001b[38;5;132;01m{\u001b[39;00mn\u001b[38;5;132;01m}\u001b[39;00m\u001b[33m'\u001b[39m)\n\u001b[32m     10\u001b[39m guessn()\n\u001b[32m---> \u001b[39m\u001b[32m11\u001b[39m \u001b[38;5;28;01mwhile\u001b[39;00m \u001b[43mg\u001b[49m != n:\n\u001b[32m     12\u001b[39m     guessn()\n",
      "\u001b[31mNameError\u001b[39m: name 'g' is not defined"
     ]
    }
   ],
   "source": [
    "def guessn():\n",
    "    \n",
    "        n=random.randint(1,10)\n",
    "        g=int(input('guess the no.'))\n",
    "\n",
    "        if g==n:\n",
    "            print('You Guessed It')\n",
    "        else:\n",
    "            print(f'Failed,the answer is {n}')\n",
    "guessn()\n",
    "while g != n:\n",
    "    guessn()"
   ]
  },
  {
   "cell_type": "code",
   "execution_count": 18,
   "id": "0b358cb1-4017-4ce2-b2ab-eae118d960c1",
   "metadata": {},
   "outputs": [
    {
     "name": "stdin",
     "output_type": "stream",
     "text": [
      "press enter to roll the die \n"
     ]
    },
    {
     "name": "stdout",
     "output_type": "stream",
     "text": [
      "you rolled a 4\n"
     ]
    }
   ],
   "source": [
    "import random\n",
    "def rd():\n",
    "    input('press enter to roll the die')\n",
    "    d = random.randint(1,6)\n",
    "    print(f'you rolled a {d}')\n",
    "rd()"
   ]
  },
  {
   "cell_type": "code",
   "execution_count": 23,
   "id": "d6bc2ac5-cbdb-4b1e-b9ab-5eddb460e092",
   "metadata": {
    "collapsed": true,
    "jupyter": {
     "outputs_hidden": true
    }
   },
   "outputs": [
    {
     "name": "stdin",
     "output_type": "stream",
     "text": [
      "press enter to roll the dice \n"
     ]
    },
    {
     "name": "stdout",
     "output_type": "stream",
     "text": [
      "You Rolled: 4\n"
     ]
    },
    {
     "name": "stdin",
     "output_type": "stream",
     "text": [
      "Roll Again??(y/n)  y\n",
      "press enter to roll the dice y\n"
     ]
    },
    {
     "name": "stdout",
     "output_type": "stream",
     "text": [
      "You Rolled: 4\n"
     ]
    },
    {
     "name": "stdin",
     "output_type": "stream",
     "text": [
      "Roll Again??(y/n)  y\n",
      "press enter to roll the dice y\n"
     ]
    },
    {
     "name": "stdout",
     "output_type": "stream",
     "text": [
      "You Rolled: 2\n"
     ]
    },
    {
     "name": "stdin",
     "output_type": "stream",
     "text": [
      "Roll Again??(y/n)  y\n",
      "press enter to roll the dice \n"
     ]
    },
    {
     "name": "stdout",
     "output_type": "stream",
     "text": [
      "You Rolled: 1\n"
     ]
    },
    {
     "name": "stdin",
     "output_type": "stream",
     "text": [
      "Roll Again??(y/n)  n\n"
     ]
    }
   ],
   "source": [
    "import random\n",
    "def rd():\n",
    "    return random.randint(1,6)\n",
    "while True:\n",
    "    input('press enter to roll the dice')\n",
    "    print('You Rolled:',rd())\n",
    "    a=input('Roll Again??(y/n) ')\n",
    "    if a.lower()!='y':\n",
    "        break"
   ]
  },
  {
   "cell_type": "code",
   "execution_count": 24,
   "id": "2220b04c-6b00-462d-82bc-c931f4ed0c19",
   "metadata": {},
   "outputs": [],
   "source": [
    "import tkinter as tk\n",
    "import random"
   ]
  },
  {
   "cell_type": "code",
   "execution_count": 32,
   "id": "84c2af1b-a779-48ec-a178-23e87a710407",
   "metadata": {
    "scrolled": true
   },
   "outputs": [
    {
     "name": "stderr",
     "output_type": "stream",
     "text": [
      "Exception in Tkinter callback\n",
      "Traceback (most recent call last):\n",
      "  File \"C:\\Users\\Sarthak Tiwari\\AppData\\Local\\Programs\\Python\\Python313\\Lib\\tkinter\\__init__.py\", line 2068, in __call__\n",
      "    return self.func(*args)\n",
      "           ~~~~~~~~~^^^^^^^\n",
      "  File \"C:\\Users\\Sarthak Tiwari\\AppData\\Local\\Temp\\ipykernel_13016\\3379293593.py\", line 3, in roll\n",
      "    label_result.config(text=f'you rolled: {dv}')\n",
      "    ^^^^^^^^^^^^\n",
      "NameError: name 'label_result' is not defined\n",
      "Exception in Tkinter callback\n",
      "Traceback (most recent call last):\n",
      "  File \"C:\\Users\\Sarthak Tiwari\\AppData\\Local\\Programs\\Python\\Python313\\Lib\\tkinter\\__init__.py\", line 2068, in __call__\n",
      "    return self.func(*args)\n",
      "           ~~~~~~~~~^^^^^^^\n",
      "  File \"C:\\Users\\Sarthak Tiwari\\AppData\\Local\\Temp\\ipykernel_13016\\3379293593.py\", line 3, in roll\n",
      "    label_result.config(text=f'you rolled: {dv}')\n",
      "    ^^^^^^^^^^^^\n",
      "NameError: name 'label_result' is not defined\n",
      "Exception in Tkinter callback\n",
      "Traceback (most recent call last):\n",
      "  File \"C:\\Users\\Sarthak Tiwari\\AppData\\Local\\Programs\\Python\\Python313\\Lib\\tkinter\\__init__.py\", line 2068, in __call__\n",
      "    return self.func(*args)\n",
      "           ~~~~~~~~~^^^^^^^\n",
      "  File \"C:\\Users\\Sarthak Tiwari\\AppData\\Local\\Temp\\ipykernel_13016\\3379293593.py\", line 3, in roll\n",
      "    label_result.config(text=f'you rolled: {dv}')\n",
      "    ^^^^^^^^^^^^\n",
      "NameError: name 'label_result' is not defined\n",
      "Exception in Tkinter callback\n",
      "Traceback (most recent call last):\n",
      "  File \"C:\\Users\\Sarthak Tiwari\\AppData\\Local\\Programs\\Python\\Python313\\Lib\\tkinter\\__init__.py\", line 2068, in __call__\n",
      "    return self.func(*args)\n",
      "           ~~~~~~~~~^^^^^^^\n",
      "  File \"C:\\Users\\Sarthak Tiwari\\AppData\\Local\\Temp\\ipykernel_13016\\3379293593.py\", line 3, in roll\n",
      "    label_result.config(text=f'you rolled: {dv}')\n",
      "    ^^^^^^^^^^^^\n",
      "NameError: name 'label_result' is not defined\n",
      "Exception in Tkinter callback\n",
      "Traceback (most recent call last):\n",
      "  File \"C:\\Users\\Sarthak Tiwari\\AppData\\Local\\Programs\\Python\\Python313\\Lib\\tkinter\\__init__.py\", line 2068, in __call__\n",
      "    return self.func(*args)\n",
      "           ~~~~~~~~~^^^^^^^\n",
      "  File \"C:\\Users\\Sarthak Tiwari\\AppData\\Local\\Temp\\ipykernel_13016\\3379293593.py\", line 3, in roll\n",
      "    label_result.config(text=f'you rolled: {dv}')\n",
      "    ^^^^^^^^^^^^\n",
      "NameError: name 'label_result' is not defined\n"
     ]
    }
   ],
   "source": [
    "def roll():\n",
    "    dv=random.randint(1,6)\n",
    "    label_result.config(text=f'you rolled: {dv}')\n",
    "    dice_label.config(text=dice_unicode [dv])\n",
    "dice_unicode={\n",
    "    1: \"\\u2680\",\n",
    "    2: \"\\u2681\",\n",
    "    3: \"\\u2682\",\n",
    "    4: \"\\u2683\",\n",
    "    5: \"\\u2684\",\n",
    "    6: \"\\u2685\"\n",
    "}\n",
    "root=tk.Tk()\n",
    "root.title('dice roller')\n",
    "root.geometry('300x200')\n",
    "\n",
    "dice_label=tk.Label(root,text=\"\",font=(\"helvetica\",100))\n",
    "dice_label.pack\n",
    "\n",
    "roll_button = tk.Button(root, text='roll dice', command=roll, font=(\"helvetica\",12))\n",
    "roll_button.pack()\n",
    "\n",
    "root.mainloop()"
   ]
  },
  {
   "cell_type": "code",
   "execution_count": null,
   "id": "9c88087a-a81a-4c5c-bda1-3e9a7357efd4",
   "metadata": {},
   "outputs": [],
   "source": []
  }
 ],
 "metadata": {
  "kernelspec": {
   "display_name": "Python 3 (ipykernel)",
   "language": "python",
   "name": "python3"
  },
  "language_info": {
   "codemirror_mode": {
    "name": "ipython",
    "version": 3
   },
   "file_extension": ".py",
   "mimetype": "text/x-python",
   "name": "python",
   "nbconvert_exporter": "python",
   "pygments_lexer": "ipython3",
   "version": "3.13.5"
  }
 },
 "nbformat": 4,
 "nbformat_minor": 5
}
