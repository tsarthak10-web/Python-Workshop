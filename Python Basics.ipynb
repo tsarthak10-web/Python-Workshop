{
 "cells": [
  {
   "cell_type": "code",
   "execution_count": 9,
   "id": "70be34a6-dc47-4610-8190-198386897a12",
   "metadata": {},
   "outputs": [
    {
     "name": "stdin",
     "output_type": "stream",
     "text": [
      "enter a number 15\n"
     ]
    },
    {
     "name": "stdout",
     "output_type": "stream",
     "text": [
      "done\n"
     ]
    }
   ],
   "source": [
    "a = int(input('enter a number'))\n",
    "if a < 10:\n",
    "    print('Less Than 10')\n",
    "if a > 20:\n",
    "    print('greater than 20')\n",
    "print('done')    "
   ]
  },
  {
   "cell_type": "code",
   "execution_count": 11,
   "id": "2d2bdbea-5da1-4237-9bac-c02cec639585",
   "metadata": {},
   "outputs": [
    {
     "name": "stdout",
     "output_type": "stream",
     "text": [
      "before 5\n",
      "is 5\n",
      "still 5\n",
      "again 5\n",
      "After thw if statement\n",
      "before if statememtn for 6\n",
      "is 5\n"
     ]
    }
   ],
   "source": [
    "a=5\n",
    "print('before 5')\n",
    "if a==5:\n",
    "    print('is 5')\n",
    "    print('still 5')\n",
    "    print('again 5')\n",
    "print('After thw if statement')\n",
    "print('before if statememtn for 6')\n",
    "if a==6:\n",
    "    print('is 6')\n",
    "    print('still 6')\n",
    "    print('again 6') \n",
    "print('is 5')\n"
   ]
  },
  {
   "cell_type": "code",
   "execution_count": 16,
   "id": "bfa0c13c-83c0-49e1-8541-5d726d46a8cf",
   "metadata": {},
   "outputs": [
    {
     "name": "stdout",
     "output_type": "stream",
     "text": [
      "first -1\n",
      "second 123\n"
     ]
    },
    {
     "data": {
      "text/plain": [
       "int"
      ]
     },
     "execution_count": 16,
     "metadata": {},
     "output_type": "execute_result"
    }
   ],
   "source": [
    "astr='hello bob'\n",
    "try:\n",
    "    istr=int(astr)\n",
    "except:\n",
    "    istr=-1\n",
    "print('first',istr)\n",
    "type(istr)\n",
    "astr='123'\n",
    "try:\n",
    "    istr=int(astr)\n",
    "except:\n",
    "        istr=-1\n",
    "print('second',istr)\n",
    "type(istr)"
   ]
  },
  {
   "cell_type": "code",
   "execution_count": 33,
   "id": "50754ab5-2340-447a-84bc-5d3513433ffb",
   "metadata": {},
   "outputs": [
    {
     "name": "stdout",
     "output_type": "stream",
     "text": [
      "<class 'str'>\n",
      "helli\n",
      "done -1\n"
     ]
    },
    {
     "data": {
      "text/plain": [
       "int"
      ]
     },
     "execution_count": 33,
     "metadata": {},
     "output_type": "execute_result"
    }
   ],
   "source": [
    "astr='bob'\n",
    "print(type(astr))\n",
    "try:\n",
    "    print('helli')\n",
    "    istr=int(astr)\n",
    "    print('there')\n",
    "   #type(astr)\n",
    "except:\n",
    "    istr=-1\n",
    "print('done',istr)\n",
    "type(istr)\n"
   ]
  },
  {
   "cell_type": "code",
   "execution_count": 41,
   "id": "4833e971-bc44-4300-8ecc-f14237ecbbb3",
   "metadata": {},
   "outputs": [
    {
     "name": "stdin",
     "output_type": "stream",
     "text": [
      "enter no. of hours 5\n",
      "enter rate r\n"
     ]
    },
    {
     "name": "stdout",
     "output_type": "stream",
     "text": [
      "error, please enter a numerical value\n"
     ]
    }
   ],
   "source": [
    "h=input('enter no. of hours')\n",
    "r=input('enter rate')\n",
    "try:\n",
    "    hi=int(h)\n",
    "    ri=int(r)\n",
    "    print('Pay is ',hi*ri)\n",
    "except:\n",
    "    print('error, please enter a numerical value')\n"
   ]
  },
  {
   "cell_type": "code",
   "execution_count": 1,
   "id": "3e32219d-c2ed-4c12-b32a-3a7c54fd3b4c",
   "metadata": {},
   "outputs": [
    {
     "name": "stdout",
     "output_type": "stream",
     "text": [
      "4\n",
      "3\n",
      "2\n",
      "1\n",
      "blastoff\n",
      "0\n"
     ]
    }
   ],
   "source": [
    "n=4\n",
    "while n>0:\n",
    "    print(n)\n",
    "    n=n-1\n",
    "print('blastoff')\n",
    "print(n)"
   ]
  },
  {
   "cell_type": "code",
   "execution_count": 5,
   "id": "c5b10248-018c-417c-a0ec-4a3e110f58d2",
   "metadata": {},
   "outputs": [
    {
     "name": "stdin",
     "output_type": "stream",
     "text": [
      "> $arthak\n",
      "> s\n"
     ]
    },
    {
     "name": "stdout",
     "output_type": "stream",
     "text": [
      "s\n"
     ]
    },
    {
     "name": "stdin",
     "output_type": "stream",
     "text": [
      "> do\n"
     ]
    },
    {
     "name": "stdout",
     "output_type": "stream",
     "text": [
      "do\n"
     ]
    },
    {
     "name": "stdin",
     "output_type": "stream",
     "text": [
      "> done\n"
     ]
    },
    {
     "name": "stdout",
     "output_type": "stream",
     "text": [
      "done!\n"
     ]
    }
   ],
   "source": [
    "while True:\n",
    "    line = input('>')\n",
    "    if line[0] =='$' :\n",
    "        continue\n",
    "    if line == 'done' :\n",
    "        break\n",
    "    print(line)\n",
    "print('done!')"
   ]
  },
  {
   "cell_type": "code",
   "execution_count": 6,
   "id": "c3c93621-f9ff-4a6a-96a8-5ee8cba78b46",
   "metadata": {},
   "outputs": [
    {
     "name": "stdout",
     "output_type": "stream",
     "text": [
      "counting 1\n",
      "counting 2\n",
      "counting 3\n",
      "counting 4\n",
      "counting 5\n",
      "aage nahi aata\n"
     ]
    }
   ],
   "source": [
    "a=[1,2,3,4,5]\n",
    "for i in a :\n",
    "    print('counting',i)\n",
    "print('aage nahi aata')"
   ]
  },
  {
   "cell_type": "code",
   "execution_count": 7,
   "id": "d0375687-f418-4992-9cc6-edc84234da90",
   "metadata": {},
   "outputs": [
    {
     "name": "stdout",
     "output_type": "stream",
     "text": [
      "Sup as\n",
      "Sup sd\n",
      "Sup dr\n",
      "Welcome My Gs\n"
     ]
    }
   ],
   "source": [
    "fs=['as','sd','dr']\n",
    "for f in fs :\n",
    "    print('Sup',f)\n",
    "print('Welcome My Gs')"
   ]
  },
  {
   "cell_type": "code",
   "execution_count": 8,
   "id": "9e9b959b-8ba2-4eec-b70b-e06e58a3f1eb",
   "metadata": {},
   "outputs": [
    {
     "name": "stdout",
     "output_type": "stream",
     "text": [
      "max before -1\n",
      "2 2\n",
      "56 56\n",
      "78 78\n",
      "78 4\n",
      "78 56\n",
      "79 79\n",
      "83 83\n",
      "83 5\n",
      "83 61\n",
      "max after 83\n"
     ]
    }
   ],
   "source": [
    "max=-1\n",
    "print('max before',max)\n",
    "for n in [2,56,78,4,56,79,83,5,61] :\n",
    "    if n>max :\n",
    "        max=n\n",
    "    print(max,n)\n",
    "print('max after',max)"
   ]
  },
  {
   "cell_type": "code",
   "execution_count": 11,
   "id": "49ba978c-b9a0-4a6a-8bba-ebbf0380cd9b",
   "metadata": {},
   "outputs": [
    {
     "name": "stdout",
     "output_type": "stream",
     "text": [
      "9 9\n",
      "41 50\n",
      "12 62\n",
      "3 65\n",
      "74 139\n",
      "15 154\n",
      "avg of all is 25.666666666666668\n"
     ]
    }
   ],
   "source": [
    "b=0\n",
    "c=0\n",
    "for n in [9,41,12,3,74,15]:\n",
    "    c=c+1\n",
    "    b=b+n\n",
    "    print(n,b)\n",
    "print('avg of all is',b/c)"
   ]
  },
  {
   "cell_type": "code",
   "execution_count": 2,
   "id": "204b4d29-8185-4215-852b-dc86c8e3e3c5",
   "metadata": {},
   "outputs": [
    {
     "name": "stdin",
     "output_type": "stream",
     "text": [
      "enter: jj'\n"
     ]
    },
    {
     "name": "stdout",
     "output_type": "stream",
     "text": [
      "jj'\n"
     ]
    },
    {
     "name": "stdin",
     "output_type": "stream",
     "text": [
      "enter 2\n"
     ]
    },
    {
     "name": "stdout",
     "output_type": "stream",
     "text": [
      "27\n"
     ]
    }
   ],
   "source": [
    "a = input('enter:')\n",
    "print(a)\n",
    "b=input('enter:')\n",
    "c=int(b)+25\n",
    "print(c)"
   ]
  },
  {
   "cell_type": "code",
   "execution_count": 4,
   "id": "5750d919-ac28-4f5a-9707-58a84f97ccde",
   "metadata": {},
   "outputs": [
    {
     "name": "stdout",
     "output_type": "stream",
     "text": [
      "s\n",
      "3\n"
     ]
    }
   ],
   "source": [
    "a='bdsj'\n",
    "b=a[2]\n",
    "print(b)\n",
    "c=3\n",
    "d=a[c-1]\n",
    "print(c)"
   ]
  },
  {
   "cell_type": "code",
   "execution_count": 6,
   "id": "d4741023-e549-482d-818f-6893d8ec0f8c",
   "metadata": {},
   "outputs": [
    {
     "name": "stdout",
     "output_type": "stream",
     "text": [
      "10\n"
     ]
    }
   ],
   "source": [
    "a='bdfas jkbk'\n",
    "print(len(a))"
   ]
  },
  {
   "cell_type": "code",
   "execution_count": 7,
   "id": "ef59322e-0b66-468d-9bf6-c2d8b9ee4369",
   "metadata": {},
   "outputs": [
    {
     "name": "stdout",
     "output_type": "stream",
     "text": [
      "0 y\n",
      "1 o\n",
      "2 s\n",
      "3 h\n",
      "4 i\n"
     ]
    }
   ],
   "source": [
    "a='yoshi'\n",
    "i=0\n",
    "while i<len(a):\n",
    "    l=a[i]\n",
    "    print(i,l)\n",
    "    i=i+1"
   ]
  },
  {
   "cell_type": "code",
   "execution_count": 1,
   "id": "1329106e-3fff-4453-9237-2f6caaf5384a",
   "metadata": {},
   "outputs": [
    {
     "name": "stdout",
     "output_type": "stream",
     "text": [
      "0 y\n",
      "1 o\n",
      "2 s\n",
      "3 h\n",
      "4 i\n"
     ]
    }
   ],
   "source": [
    "a='yoshi'\n",
    "b=0\n",
    "i=0\n",
    "for i in a:\n",
    "    print(b,i)\n",
    "    b=b+1    "
   ]
  },
  {
   "cell_type": "code",
   "execution_count": 3,
   "id": "00f765a0-d3ec-46fc-92a2-bce73a1683e4",
   "metadata": {},
   "outputs": [
    {
     "name": "stdout",
     "output_type": "stream",
     "text": [
      "1 1\n",
      "3 3\n",
      "5 5\n",
      "ji\n"
     ]
    }
   ],
   "source": [
    "a='banana'\n",
    "i=0\n",
    "while i < len(a) :\n",
    "    if a[i]=='a':\n",
    "        print(b,a[i])\n",
    "    i=i+1\n",
    "print('ji')\n",
    "    "
   ]
  },
  {
   "cell_type": "code",
   "execution_count": 5,
   "id": "623acbb9-ac63-495b-aabb-987b6e523590",
   "metadata": {},
   "outputs": [
    {
     "name": "stdout",
     "output_type": "stream",
     "text": [
      "basd\n",
      "basdbjk\n",
      "basdbj\n"
     ]
    }
   ],
   "source": [
    "a='basdbjk'\n",
    "print(a[0:4])\n",
    "print(a[0:])\n",
    "print(a[:6])"
   ]
  },
  {
   "cell_type": "code",
   "execution_count": 9,
   "id": "4aefd3a4-0896-4b9e-a997-f0032a889809",
   "metadata": {},
   "outputs": [
    {
     "name": "stdout",
     "output_type": "stream",
     "text": [
      "mil gaya\n",
      "mil gaya\n",
      "mil gaya\n",
      "mil gaya\n",
      "mil gaya\n",
      "mil gaya\n",
      "mil gaya\n"
     ]
    }
   ],
   "source": [
    "a='sarthak'\n",
    "i=0\n",
    "for i in a:\n",
    "    if 'a' in a:\n",
    "        print('mil gaya')\n",
    "#waste of time \n",
    "#only checks for contion once, if the condition is true even once it triggers the effect"
   ]
  },
  {
   "cell_type": "code",
   "execution_count": 10,
   "id": "6b15db51-74ec-4b1b-a2e5-5d31ed16b592",
   "metadata": {},
   "outputs": [
    {
     "data": {
      "text/plain": [
       "['__add__',\n",
       " '__class__',\n",
       " '__contains__',\n",
       " '__delattr__',\n",
       " '__dir__',\n",
       " '__doc__',\n",
       " '__eq__',\n",
       " '__format__',\n",
       " '__ge__',\n",
       " '__getattribute__',\n",
       " '__getitem__',\n",
       " '__getnewargs__',\n",
       " '__getstate__',\n",
       " '__gt__',\n",
       " '__hash__',\n",
       " '__init__',\n",
       " '__init_subclass__',\n",
       " '__iter__',\n",
       " '__le__',\n",
       " '__len__',\n",
       " '__lt__',\n",
       " '__mod__',\n",
       " '__mul__',\n",
       " '__ne__',\n",
       " '__new__',\n",
       " '__reduce__',\n",
       " '__reduce_ex__',\n",
       " '__repr__',\n",
       " '__rmod__',\n",
       " '__rmul__',\n",
       " '__setattr__',\n",
       " '__sizeof__',\n",
       " '__str__',\n",
       " '__subclasshook__',\n",
       " 'capitalize',\n",
       " 'casefold',\n",
       " 'center',\n",
       " 'count',\n",
       " 'encode',\n",
       " 'endswith',\n",
       " 'expandtabs',\n",
       " 'find',\n",
       " 'format',\n",
       " 'format_map',\n",
       " 'index',\n",
       " 'isalnum',\n",
       " 'isalpha',\n",
       " 'isascii',\n",
       " 'isdecimal',\n",
       " 'isdigit',\n",
       " 'isidentifier',\n",
       " 'islower',\n",
       " 'isnumeric',\n",
       " 'isprintable',\n",
       " 'isspace',\n",
       " 'istitle',\n",
       " 'isupper',\n",
       " 'join',\n",
       " 'ljust',\n",
       " 'lower',\n",
       " 'lstrip',\n",
       " 'maketrans',\n",
       " 'partition',\n",
       " 'removeprefix',\n",
       " 'removesuffix',\n",
       " 'replace',\n",
       " 'rfind',\n",
       " 'rindex',\n",
       " 'rjust',\n",
       " 'rpartition',\n",
       " 'rsplit',\n",
       " 'rstrip',\n",
       " 'split',\n",
       " 'splitlines',\n",
       " 'startswith',\n",
       " 'strip',\n",
       " 'swapcase',\n",
       " 'title',\n",
       " 'translate',\n",
       " 'upper',\n",
       " 'zfill']"
      ]
     },
     "execution_count": 10,
     "metadata": {},
     "output_type": "execute_result"
    }
   ],
   "source": [
    "a='hbadajbh'\n",
    "type(a)\n",
    "dir(a)"
   ]
  },
  {
   "cell_type": "code",
   "execution_count": 3,
   "id": "ba1fde8e-ef9d-459c-911b-4e6e969b7f9f",
   "metadata": {},
   "outputs": [
    {
     "name": "stdout",
     "output_type": "stream",
     "text": [
      "{'vcx': 12, 'vbn': 25, 'vfr': 42}\n",
      "12\n",
      "vcx\n",
      "vbn\n",
      "vfr\n"
     ]
    }
   ],
   "source": [
    "a=dict()\n",
    "a['vcx']=12\n",
    "a['vbn']=25\n",
    "a['vfr']=42\n",
    "print(a)\n",
    "print(a['vcx'])\n",
    "i=0\n",
    "for i in a:\n",
    "    print(i)"
   ]
  },
  {
   "cell_type": "code",
   "execution_count": 5,
   "id": "352e73a1-697f-40bd-98e2-587005347348",
   "metadata": {},
   "outputs": [
    {
     "name": "stdout",
     "output_type": "stream",
     "text": [
      "[23, 42]\n",
      "25\n"
     ]
    }
   ],
   "source": [
    "l=list()\n",
    "l.append(23)\n",
    "l.append(42)\n",
    "print(l)\n",
    "b=l[0]+2\n",
    "print(b)"
   ]
  },
  {
   "cell_type": "code",
   "execution_count": 7,
   "id": "352f0a2f-7399-4f09-9ea5-1a8423602df7",
   "metadata": {
    "scrolled": true
   },
   "outputs": [
    {
     "name": "stdout",
     "output_type": "stream",
     "text": [
      "nsdhh\n",
      "\n",
      "jfidnvivjdsjifd\n",
      "\n",
      "eijifoewki\\jjms]\n",
      "\n",
      "msskdnkn \n",
      "\n",
      "mnneoo\n",
      "\n",
      "jennjkdsfhkb\n",
      "\n",
      "dfjnkkjbdfjkndf'\n",
      "\n",
      "lwoiweqoiwqe\n",
      "\n",
      "e\n",
      "\n",
      "3\n",
      "\n",
      "42443\n",
      "\n",
      "dfv\n",
      "\n",
      "2332f\n",
      "\n",
      "kf39e3\n",
      "\n",
      "efdvkl  5e68wef';3\n",
      "\n",
      ";l3r2p3 w6 jndsj575a5wdw\n",
      "\n",
      "lefopjeoqewdew93 ewk[\n",
      "\n",
      "dw,ff66e6/????iohdhfsk\n"
     ]
    }
   ],
   "source": [
    "b=open('nsdhh.txt')\n",
    "for a in b:\n",
    "    print(a)"
   ]
  },
  {
   "cell_type": "code",
   "execution_count": 14,
   "id": "f4923b89-1bd1-4eca-a11c-2d05c7c7ee5c",
   "metadata": {},
   "outputs": [
    {
     "name": "stdout",
     "output_type": "stream",
     "text": [
      "not found\n",
      "not found\n",
      "not found\n",
      "not found\n",
      "not found\n",
      "not found\n",
      "not found\n",
      "not found\n",
      "not found\n",
      "not found\n",
      "not found\n",
      "not found\n",
      "not found\n",
      "not found\n",
      "not found\n",
      "not found\n",
      "not found\n",
      "not found\n"
     ]
    }
   ],
   "source": [
    "a=open('nsdhh.txt')\n",
    "for i in a :\n",
    "    if i.startswith('hello'):\n",
    "        print(i)\n",
    "    else:\n",
    "        print('not found')"
   ]
  },
  {
   "cell_type": "code",
   "execution_count": 2,
   "id": "2a4db12b-c40a-4cbd-9ec9-34f8c6353ba2",
   "metadata": {},
   "outputs": [
    {
     "name": "stdin",
     "output_type": "stream",
     "text": [
      "ENter 2\n",
      "enter 3\n"
     ]
    },
    {
     "name": "stdout",
     "output_type": "stream",
     "text": [
      "ab\n"
     ]
    }
   ],
   "source": [
    "a=input('ENter')\n",
    "b=input('enter')\n",
    "c='a'+'b'\n",
    "print(c)"
   ]
  },
  {
   "cell_type": "code",
   "execution_count": null,
   "id": "c4b87361-2cab-4fc3-8e71-65a5db9b8f41",
   "metadata": {},
   "outputs": [],
   "source": []
  }
 ],
 "metadata": {
  "kernelspec": {
   "display_name": "Python 3 (ipykernel)",
   "language": "python",
   "name": "python3"
  },
  "language_info": {
   "codemirror_mode": {
    "name": "ipython",
    "version": 3
   },
   "file_extension": ".py",
   "mimetype": "text/x-python",
   "name": "python",
   "nbconvert_exporter": "python",
   "pygments_lexer": "ipython3",
   "version": "3.13.5"
  }
 },
 "nbformat": 4,
 "nbformat_minor": 5
}
