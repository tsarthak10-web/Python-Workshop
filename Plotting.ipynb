{
 "cells": [
  {
   "cell_type": "code",
   "execution_count": null,
   "id": "4e3c7439-6f71-4a31-b47d-1f9ba2e1de59",
   "metadata": {},
   "outputs": [],
   "source": []
  }
 ],
 "metadata": {
  "kernelspec": {
   "display_name": "",
   "name": ""
  },
  "language_info": {
   "name": ""
  }
 },
 "nbformat": 4,
 "nbformat_minor": 5
}
